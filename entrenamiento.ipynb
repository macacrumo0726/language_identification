{
  "nbformat": 4,
  "nbformat_minor": 0,
  "metadata": {
    "colab": {
      "name": "entrenamiento.ipynb",
      "provenance": [],
      "collapsed_sections": []
    },
    "kernelspec": {
      "name": "python3",
      "display_name": "Python 3"
    },
    "language_info": {
      "name": "python"
    }
  },
  "cells": [
    {
      "cell_type": "code",
      "metadata": {
        "id": "WnhJtGyvOWRu",
        "colab": {
          "base_uri": "https://localhost:8080/",
          "height": 367
        },
        "outputId": "89ce3ab7-7957-4c4e-a515-f5207b2ff077"
      },
      "source": [
        "#librerías\n",
        "import sys\n",
        "import os\n",
        "from tensorflow.python.keras.preprocessing.image import ImageDataGenerator\n",
        "#from tensorflow.python.keras import optimizers\n",
        "from tensorflow.python.keras.models import Sequential\n",
        "from tensorflow.python.keras.layers import Dropout, Flatten, Dense, Activation\n",
        "from tensorflow.python.keras.layers import  Convolution2D, MaxPooling2D , GlobalAveragePooling2D\n",
        "from tensorflow.python.keras import backend as K  \n",
        "from keras.optimizers import Adam\n",
        "#librerías para predecir\n",
        "import numpy as np\n",
        "from keras.preprocessing.image import load_img, img_to_array\n",
        "from keras.models import load_model\n",
        "from keras.optimizers import SGD\n",
        "from keras.models import Model\n",
        "from keras.utils import np_utils\n",
        "from keras.preprocessing import image\n",
        "from keras.applications.inception_resnet_v2 import InceptionResNetV2\n",
        "from keras.applications.inception_resnet_v2 import preprocess_input, decode_predictions\n",
        "from keras.layers import Dense, GlobalAveragePooling2D\n",
        "from sklearn.model_selection import train_test_split\n",
        "import os\n",
        "import glob\n",
        "from __future__ import print_function\n",
        "import keras\n",
        "from keras.layers import Dense, Conv2D, BatchNormalization, Activation\n",
        "from keras.layers import AveragePooling2D, Input, Flatten\n",
        "from keras.callbacks import ModelCheckpoint, LearningRateScheduler\n",
        "from keras.callbacks import ReduceLROnPlateau\n",
        "from keras.regularizers import l2\n",
        "from keras.models import Model\n",
        "from keras.utils import plot_model\n",
        "import pandas as pd\n",
        "from sklearn import linear_model\n",
        "from sklearn import model_selection\n",
        "from sklearn.metrics import classification_report\n",
        "from sklearn.metrics import confusion_matrix\n",
        "from sklearn.metrics import accuracy_score\n",
        "import matplotlib.pyplot as plt\n",
        "import seaborn as sb\n",
        "from sklearn.metrics import accuracy_score\n",
        "import matplotlib.pyplot as plt\n",
        "%matplotlib inline\n",
        "from sklearn.metrics import classification_report, confusion_matrix"
      ],
      "execution_count": null,
      "outputs": [
        {
          "output_type": "error",
          "ename": "ImportError",
          "evalue": "ignored",
          "traceback": [
            "\u001b[0;31m---------------------------------------------------------------------------\u001b[0m",
            "\u001b[0;31mImportError\u001b[0m                               Traceback (most recent call last)",
            "\u001b[0;32m<ipython-input-1-6f4abdc3280c>\u001b[0m in \u001b[0;36m<module>\u001b[0;34m()\u001b[0m\n\u001b[1;32m     31\u001b[0m \u001b[0;32mfrom\u001b[0m \u001b[0mkeras\u001b[0m\u001b[0;34m.\u001b[0m\u001b[0mregularizers\u001b[0m \u001b[0;32mimport\u001b[0m \u001b[0ml2\u001b[0m\u001b[0;34m\u001b[0m\u001b[0;34m\u001b[0m\u001b[0m\n\u001b[1;32m     32\u001b[0m \u001b[0;32mfrom\u001b[0m \u001b[0mkeras\u001b[0m\u001b[0;34m.\u001b[0m\u001b[0mmodels\u001b[0m \u001b[0;32mimport\u001b[0m \u001b[0mModel\u001b[0m\u001b[0;34m\u001b[0m\u001b[0;34m\u001b[0m\u001b[0m\n\u001b[0;32m---> 33\u001b[0;31m \u001b[0;32mfrom\u001b[0m \u001b[0mkeras\u001b[0m\u001b[0;34m.\u001b[0m\u001b[0mutils\u001b[0m \u001b[0;32mimport\u001b[0m \u001b[0mplot_model\u001b[0m\u001b[0;34m\u001b[0m\u001b[0;34m\u001b[0m\u001b[0m\n\u001b[0m\u001b[1;32m     34\u001b[0m \u001b[0;32mimport\u001b[0m \u001b[0mpandas\u001b[0m \u001b[0;32mas\u001b[0m \u001b[0mpd\u001b[0m\u001b[0;34m\u001b[0m\u001b[0;34m\u001b[0m\u001b[0m\n\u001b[1;32m     35\u001b[0m \u001b[0;32mfrom\u001b[0m \u001b[0msklearn\u001b[0m \u001b[0;32mimport\u001b[0m \u001b[0mlinear_model\u001b[0m\u001b[0;34m\u001b[0m\u001b[0;34m\u001b[0m\u001b[0m\n",
            "\u001b[0;31mImportError\u001b[0m: cannot import name 'plot_model' from 'keras.utils' (/usr/local/lib/python3.7/dist-packages/keras/utils/__init__.py)",
            "",
            "\u001b[0;31m---------------------------------------------------------------------------\u001b[0;32m\nNOTE: If your import is failing due to a missing package, you can\nmanually install dependencies using either !pip or !apt.\n\nTo view examples of installing some common dependencies, click the\n\"Open Examples\" button below.\n\u001b[0;31m---------------------------------------------------------------------------\u001b[0m\n"
          ]
        }
      ]
    },
    {
      "cell_type": "code",
      "metadata": {
        "id": "ISFeIyliTjJh"
      },
      "source": [
        "path_data_train = '/content/drive/MyDrive/database con directorios/train' #carpeta datos de train\n",
        "path_data_test = '/content/drive/MyDrive/database con directorios/test' #carpeta datos de test\n",
        "\n",
        "\"\"\"\n",
        "Parámetros\n",
        "\"\"\"\n",
        "epochs=20\n",
        "longitud, altura = 224, 224\n",
        "batch_size = 32\n",
        "steps = 50\n",
        "test_steps = 10\n",
        "filtersConv1 = 32\n",
        "filtersConv2 = 64\n",
        "size_filter1 = (3, 3)\n",
        "size_filter2 = (2, 2)\n",
        "size_pool = (2, 2)\n",
        "classes = 7\n",
        "lr = 0.0004\n",
        "num_of_train_samples = 10393\n",
        "num_of_test_samples = 4455"
      ],
      "execution_count": null,
      "outputs": []
    },
    {
      "cell_type": "code",
      "metadata": {
        "colab": {
          "base_uri": "https://localhost:8080/"
        },
        "id": "NSc_XWEdUTjq",
        "outputId": "9f0dadb4-919b-4916-c9d2-03bfee62807d"
      },
      "source": [
        "#Código para preparar las imágenes con keras\n",
        "train_datagen = ImageDataGenerator(\n",
        "    rescale=1. / 255)\n",
        "\n",
        "test_datagen = ImageDataGenerator(rescale=1. / 255)\n",
        "\n",
        "train_generador = train_datagen.flow_from_directory(\n",
        "    path_data_train,\n",
        "    target_size=(altura, longitud),\n",
        "    batch_size=batch_size,\n",
        "    class_mode='categorical')\n",
        "\n",
        "test_generador = test_datagen.flow_from_directory(\n",
        "    path_data_test,\n",
        "    target_size=(altura, longitud),\n",
        "    batch_size=1,\n",
        "    class_mode='categorical',\n",
        "    shuffle=False)"
      ],
      "execution_count": null,
      "outputs": [
        {
          "output_type": "stream",
          "text": [
            "Found 36700 images belonging to 7 classes.\n",
            "Found 7007 images belonging to 7 classes.\n"
          ],
          "name": "stdout"
        }
      ]
    },
    {
      "cell_type": "code",
      "metadata": {
        "id": "6d8HvxyXHpRJ"
      },
      "source": [
        "#librerías\n",
        "import sys\n",
        "import os\n",
        "from tensorflow.python.keras.preprocessing.image import ImageDataGenerator\n",
        "#from tensorflow.python.keras import optimizers\n",
        "from tensorflow.python.keras.models import Sequential\n",
        "from tensorflow.python.keras.layers import Dropout, Flatten, Dense, Activation\n",
        "from tensorflow.python.keras.layers import  Convolution2D, MaxPooling2D\n",
        "from tensorflow.python.keras import backend as K\n",
        "from keras.optimizers import Adam\n",
        "from itertools import islice\n",
        "from pathlib import Path\n",
        "from IPython.display import Audio\n",
        "import librosa\n",
        "import librosa.display\n",
        "import matplotlib.pyplot as plt\n",
        "import numpy as np\n",
        "import pandas as pd\n",
        "from scipy.fftpack import fft\n",
        "from scipy.signal import get_window\n",
        "import io\n",
        "import matplotlib.pyplot as plt\n",
        "import librosa.display\n",
        "from skimage import io\n",
        "from pathlib import Path\n",
        "from IPython.display import Audio\n",
        "import os\n",
        "import shutil, os\n",
        "from pathlib import Path\n",
        "import h5py\n",
        "from random import shuffle as mezclar #Con esta libreria se mezclan los elementos de una lista de objetos\n",
        "import glob # libreria global\n",
        "import tables as tabla\n",
        "import cv2\n",
        "from keras.applications.resnet50 import ResNet50, preprocess_input, decode_predictions\n",
        "from keras.preprocessing.image import ImageDataGenerator\n",
        "from keras.optimizers import SGD\n",
        "from keras.models import Model\n",
        "from keras.utils import np_utils\n",
        "from keras.preprocessing import image\n",
        "from keras.applications.inception_resnet_v2 import InceptionResNetV2\n",
        "from keras.applications.inception_resnet_v2 import preprocess_input, decode_predictions\n",
        "from keras.layers import Dense, GlobalAveragePooling2D\n",
        "from sklearn.model_selection import train_test_split\n",
        "import numpy as np\n",
        "import os\n",
        "import glob\n",
        "from keras.preprocessing import image\n",
        "from keras.applications.inception_resnet_v2 \\\n",
        "    import preprocess_input\n",
        "import numpy as np\n",
        "import glob\n",
        "from keras.applications.inception_resnet_v2 import InceptionResNetV2             \n",
        "from keras.preprocessing import image                                            \n",
        "from keras.applications.inception_resnet_v2 import preprocess_input, decode_predictions\n",
        "import numpy as np  \n",
        "import tensorflow as tf"
      ],
      "execution_count": null,
      "outputs": []
    },
    {
      "cell_type": "code",
      "metadata": {
        "colab": {
          "base_uri": "https://localhost:8080/"
        },
        "id": "YW2iyJrrSUwk",
        "outputId": "baff9878-f399-4d16-a3cf-54a53cf51835"
      },
      "source": [
        "#Código para abrir el HDF5 y leerlo\n",
        "Direccion_Donde_Esta_El_Archivo_HDF5= '/content/drive/MyDrive/modelos/alemanvsall.hdf5' #dirección archivo h5\n",
        "Media_Substraida = False\n",
        "\n",
        "# se usa para abrir el archivo hdf5\n",
        "Archivo_HDF5 = tabla.open_file(Direccion_Donde_Esta_El_Archivo_HDF5, mode='r')\n",
        "\n",
        "# restar la media de entrenamiento\n",
        "if Media_Substraida:\n",
        "    media = Archivo_HDF5.root.train_mean[0]\n",
        "    media = media[np.newaxis, ...]\n",
        "\n",
        "# Número total de muestras\n",
        "Numero_De_Dato = Archivo_HDF5.root.Imagen_De_Entrenamiento.shape[0]\n",
        "\n",
        "print(\"El archivo hdf5 ha sido leido de forma correcta\",Numero_De_Dato) #Imprime mensasje"
      ],
      "execution_count": null,
      "outputs": [
        {
          "output_type": "stream",
          "text": [
            "El archivo hdf5 ha sido leido de forma correcta 10690\n"
          ],
          "name": "stdout"
        }
      ]
    },
    {
      "cell_type": "code",
      "metadata": {
        "id": "rvXbab0f6z76"
      },
      "source": [
        "def keys(f): #Método para acceder a las keys del archivo hdf5\n",
        "    return [key for key in f.keys()]"
      ],
      "execution_count": null,
      "outputs": []
    },
    {
      "cell_type": "code",
      "metadata": {
        "id": "veCW1JIi7Cr9",
        "colab": {
          "base_uri": "https://localhost:8080/"
        },
        "outputId": "40f6c929-1f2e-4c64-91bc-f206881c183b"
      },
      "source": [
        "# Load file:\n",
        "data = h5py.File('/content/drive/MyDrive/modelos/alemanvsall.hdf5', 'r')\n",
        "k=keys(data)\n",
        "k"
      ],
      "execution_count": null,
      "outputs": [
        {
          "output_type": "execute_result",
          "data": {
            "text/plain": [
              "['Etiquetas_De_Entrenamiento',\n",
              " 'Etiquetas_De_Prueba',\n",
              " 'Imagen_De_Entrenamiento',\n",
              " 'Imagen_De_Prueba',\n",
              " 'Medio_Entrenamiento']"
            ]
          },
          "metadata": {
            "tags": []
          },
          "execution_count": 16
        }
      ]
    },
    {
      "cell_type": "code",
      "metadata": {
        "id": "RqHKNsJamLYu",
        "colab": {
          "base_uri": "https://localhost:8080/"
        },
        "outputId": "3130dca6-8f53-4b60-e66c-3ef4dba908e3"
      },
      "source": [
        "x_train=data['Imagen_De_Entrenamiento'].value\n",
        "y_train=data['Etiquetas_De_Entrenamiento'].value\n",
        "x_test=data['Imagen_De_Prueba'].value\n",
        "y_test=data['Etiquetas_De_Prueba'].value"
      ],
      "execution_count": null,
      "outputs": [
        {
          "output_type": "stream",
          "text": [
            "/usr/local/lib/python3.7/dist-packages/ipykernel_launcher.py:1: H5pyDeprecationWarning: dataset.value has been deprecated. Use dataset[()] instead.\n",
            "  \"\"\"Entry point for launching an IPython kernel.\n",
            "/usr/local/lib/python3.7/dist-packages/ipykernel_launcher.py:2: H5pyDeprecationWarning: dataset.value has been deprecated. Use dataset[()] instead.\n",
            "  \n",
            "/usr/local/lib/python3.7/dist-packages/ipykernel_launcher.py:3: H5pyDeprecationWarning: dataset.value has been deprecated. Use dataset[()] instead.\n",
            "  This is separate from the ipykernel package so we can avoid doing imports until\n",
            "/usr/local/lib/python3.7/dist-packages/ipykernel_launcher.py:4: H5pyDeprecationWarning: dataset.value has been deprecated. Use dataset[()] instead.\n",
            "  after removing the cwd from sys.path.\n"
          ],
          "name": "stderr"
        }
      ]
    },
    {
      "cell_type": "code",
      "metadata": {
        "id": "mBEVY5DESx7A"
      },
      "source": [
        "y_train = np_utils.to_categorical(y_train, classes)\n",
        "y_test = np_utils.to_categorical(y_test, classes)"
      ],
      "execution_count": null,
      "outputs": []
    },
    {
      "cell_type": "code",
      "metadata": {
        "id": "PWSCosbwNMOp",
        "colab": {
          "base_uri": "https://localhost:8080/"
        },
        "outputId": "2408d74c-f12f-4485-8d01-b3cec0029eda"
      },
      "source": [
        "#SE CARGA LA RED CON LOS PESOS DE IMAGENET\n",
        "\n",
        "model = InceptionResNetV2(weights='imagenet', include_top=False)"
      ],
      "execution_count": null,
      "outputs": [
        {
          "output_type": "stream",
          "text": [
            "Downloading data from https://storage.googleapis.com/tensorflow/keras-applications/inception_resnet_v2/inception_resnet_v2_weights_tf_dim_ordering_tf_kernels_notop.h5\n",
            "219062272/219055592 [==============================] - 4s 0us/step\n",
            "219070464/219055592 [==============================] - 4s 0us/step\n"
          ],
          "name": "stdout"
        }
      ]
    },
    {
      "cell_type": "code",
      "metadata": {
        "id": "JDcWc5xaNPza",
        "colab": {
          "base_uri": "https://localhost:8080/",
          "height": 214
        },
        "outputId": "654a2030-1ddd-4e99-f536-76ff10447413"
      },
      "source": [
        "#Se agregan las capas a la red para la predicción\n",
        "x = model.output\n",
        "x = GlobalAveragePooling2D()(x)\n",
        "predictions = Dense(classes, activation='softmax')(x) \n",
        "model = Model(model.input, predictions)"
      ],
      "execution_count": null,
      "outputs": [
        {
          "output_type": "error",
          "ename": "NameError",
          "evalue": "ignored",
          "traceback": [
            "\u001b[0;31m---------------------------------------------------------------------------\u001b[0m",
            "\u001b[0;31mNameError\u001b[0m                                 Traceback (most recent call last)",
            "\u001b[0;32m<ipython-input-6-83f7d29eca52>\u001b[0m in \u001b[0;36m<module>\u001b[0;34m()\u001b[0m\n\u001b[1;32m      2\u001b[0m \u001b[0mx\u001b[0m \u001b[0;34m=\u001b[0m \u001b[0mmodel\u001b[0m\u001b[0;34m.\u001b[0m\u001b[0moutput\u001b[0m\u001b[0;34m\u001b[0m\u001b[0;34m\u001b[0m\u001b[0m\n\u001b[1;32m      3\u001b[0m \u001b[0mx\u001b[0m \u001b[0;34m=\u001b[0m \u001b[0mGlobalAveragePooling2D\u001b[0m\u001b[0;34m(\u001b[0m\u001b[0;34m)\u001b[0m\u001b[0;34m(\u001b[0m\u001b[0mx\u001b[0m\u001b[0;34m)\u001b[0m\u001b[0;34m\u001b[0m\u001b[0;34m\u001b[0m\u001b[0m\n\u001b[0;32m----> 4\u001b[0;31m \u001b[0mpredictions\u001b[0m \u001b[0;34m=\u001b[0m \u001b[0mDense\u001b[0m\u001b[0;34m(\u001b[0m\u001b[0mclasses\u001b[0m\u001b[0;34m,\u001b[0m \u001b[0mactivation\u001b[0m\u001b[0;34m=\u001b[0m\u001b[0;34m'softmax'\u001b[0m\u001b[0;34m)\u001b[0m\u001b[0;34m(\u001b[0m\u001b[0mx\u001b[0m\u001b[0;34m)\u001b[0m\u001b[0;34m\u001b[0m\u001b[0;34m\u001b[0m\u001b[0m\n\u001b[0m\u001b[1;32m      5\u001b[0m \u001b[0mmodel\u001b[0m \u001b[0;34m=\u001b[0m \u001b[0mModel\u001b[0m\u001b[0;34m(\u001b[0m\u001b[0mmodel\u001b[0m\u001b[0;34m.\u001b[0m\u001b[0minput\u001b[0m\u001b[0;34m,\u001b[0m \u001b[0mpredictions\u001b[0m\u001b[0;34m)\u001b[0m\u001b[0;34m\u001b[0m\u001b[0;34m\u001b[0m\u001b[0m\n",
            "\u001b[0;31mNameError\u001b[0m: name 'classes' is not defined"
          ]
        }
      ]
    },
    {
      "cell_type": "code",
      "metadata": {
        "id": "x1fO3wToDrPE"
      },
      "source": [
        "for layer in model.layers:\n",
        "          layer.trainable = True\n",
        "model.compile(optimizer='adam', loss='categorical_crossentropy', metrics=['accuracy'])"
      ],
      "execution_count": null,
      "outputs": []
    },
    {
      "cell_type": "code",
      "metadata": {
        "colab": {
          "base_uri": "https://localhost:8080/"
        },
        "id": "SfiAo_aIh3y4",
        "outputId": "d4ef76ef-c4a5-44cb-ba7a-ee0667c0fc59"
      },
      "source": [
        "checkpoint = ModelCheckpoint('/content/drive/MyDrive/modelos/modelos finales/pruebareentrenarresnet50.h5', monitor='val_accuracy', verbose=1, save_best_only=True, mode='max')\n",
        "callbacks_list = [checkpoint]\n",
        "history = model.fit_generator(generator=train_generador,\n",
        "                                steps_per_epoch=train_generador.n//train_generador.batch_size,\n",
        "                                epochs=100,\n",
        "                                validation_data = test_generador,\n",
        "                                validation_steps = test_generador.n//test_generador.batch_size,\n",
        "                                callbacks=callbacks_list\n",
        "                                )"
      ],
      "execution_count": null,
      "outputs": [
        {
          "output_type": "stream",
          "text": [
            "/usr/local/lib/python3.7/dist-packages/tensorflow/python/keras/engine/training.py:1844: UserWarning: `Model.fit_generator` is deprecated and will be removed in a future version. Please use `Model.fit`, which supports generators.\n",
            "  warnings.warn('`Model.fit_generator` is deprecated and '\n"
          ],
          "name": "stderr"
        },
        {
          "output_type": "stream",
          "text": [
            "Epoch 1/100\n",
            "1146/1146 [==============================] - 8145s 7s/step - loss: 0.0964 - accuracy: 0.9661 - val_loss: 0.2088 - val_accuracy: 0.9289\n",
            "\n",
            "Epoch 00001: val_accuracy improved from -inf to 0.92890, saving model to /content/drive/MyDrive/modelos/modelos finales/pruebareentrenarresnet50\n",
            "INFO:tensorflow:Assets written to: /content/drive/MyDrive/modelos/modelos finales/pruebareentrenarresnet50/assets\n",
            "Epoch 2/100\n",
            "1146/1146 [==============================] - 414s 361ms/step - loss: 0.0703 - accuracy: 0.9775 - val_loss: 0.1288 - val_accuracy: 0.9556\n",
            "\n",
            "Epoch 00002: val_accuracy improved from 0.92890 to 0.95556, saving model to /content/drive/MyDrive/modelos/modelos finales/pruebareentrenarresnet50\n",
            "INFO:tensorflow:Assets written to: /content/drive/MyDrive/modelos/modelos finales/pruebareentrenarresnet50/assets\n",
            "Epoch 3/100\n",
            "1146/1146 [==============================] - 420s 366ms/step - loss: 0.0503 - accuracy: 0.9831 - val_loss: 0.1639 - val_accuracy: 0.9460\n",
            "\n",
            "Epoch 00003: val_accuracy did not improve from 0.95556\n",
            "Epoch 4/100\n",
            "1146/1146 [==============================] - 426s 372ms/step - loss: 0.0580 - accuracy: 0.9807 - val_loss: 0.4066 - val_accuracy: 0.8743\n",
            "\n",
            "Epoch 00004: val_accuracy did not improve from 0.95556\n",
            "Epoch 5/100\n",
            "1146/1146 [==============================] - 423s 369ms/step - loss: 0.0500 - accuracy: 0.9825 - val_loss: 0.1489 - val_accuracy: 0.9504\n",
            "\n",
            "Epoch 00005: val_accuracy did not improve from 0.95556\n",
            "Epoch 6/100\n"
          ],
          "name": "stdout"
        }
      ]
    }
  ]
}